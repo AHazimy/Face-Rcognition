{
 "cells": [
  {
   "cell_type": "code",
   "execution_count": 72,
   "id": "ee9be100",
   "metadata": {},
   "outputs": [],
   "source": [
    "from keras.models import load_model\n",
    "\n",
    "model = load_model('Inception.h5')"
   ]
  },
  {
   "cell_type": "code",
   "execution_count": 71,
   "id": "b4c7b050",
   "metadata": {},
   "outputs": [
    {
     "name": "stdout",
     "output_type": "stream",
     "text": [
      "1/1 [==============================] - 0s 25ms/step\n",
      "[3.0301193e-05 0.0000000e+00 1.0000000e+00 0.0000000e+00 9.9996495e-01\n",
      " 9.9999952e-01]\n",
      "[2]\n"
     ]
    }
   ],
   "source": [
    "import cv2\n",
    "import numpy as np\n",
    "from PIL import Image\n",
    "\n",
    "\n",
    "face_classifier = cv2.CascadeClassifier('haarcascade_frontalface_default.xml')\n",
    "\n",
    "def face_detector(img, size=0.5):\n",
    "\n",
    "    # Convert image to grayscale\n",
    "    gray = cv2.cvtColor(img,cv2.COLOR_BGR2GRAY)\n",
    "    faces = face_classifier.detectMultiScale(gray, 1.3, 5)\n",
    "    if len(faces) == None:\n",
    "        return img, []\n",
    "    \n",
    "    for (x,y,w,h) in faces:\n",
    "        cv2.rectangle(img,(x,y),(x+w,y+h),(0,255,255),2)\n",
    "        roi = img[y:y+h, x:x+w]\n",
    "        roi = cv2.resize(roi, (224, 224))\n",
    "    return img, roi\n",
    "\n",
    "# img = Image.open('./data/test_model/client001/1.jpg')\n",
    "frame = cv2.imread('./data/test_model/client008/1.jpg')\n",
    "image, face = face_detector(frame)\n",
    "face=np.array(face)\n",
    "face=np.expand_dims(face,axis=0)\n",
    "if face.shape==(1,0):\n",
    "    cv2.putText(image,\"I don't know\", (100, 120), cv2.FONT_HERSHEY_COMPLEX, 1, (255,120,150), 2)\n",
    "    cv2.imshow('Face Recognition',image)\n",
    "else:# image, face = face_detector(data)\n",
    "    result = model.predict(face, verbose = True, workers = 2)\n",
    "    print(result[0])\n",
    "    result = np.argmax(result, axis=1)\n",
    "    print(result)\n",
    "#             cv2.putText(image,\"MAYUKH\", (100, 120), cv2.FONT_HERSHEY_COMPLEX, 1, (255,120,150), 2)\n",
    "#             cv2.imshow('Face Recognition',image)\n"
   ]
  }
 ],
 "metadata": {
  "kernelspec": {
   "display_name": "Python 3 (ipykernel)",
   "language": "python",
   "name": "python3"
  },
  "language_info": {
   "codemirror_mode": {
    "name": "ipython",
    "version": 3
   },
   "file_extension": ".py",
   "mimetype": "text/x-python",
   "name": "python",
   "nbconvert_exporter": "python",
   "pygments_lexer": "ipython3",
   "version": "3.10.4"
  }
 },
 "nbformat": 4,
 "nbformat_minor": 5
}
